{
 "cells": [
  {
   "cell_type": "code",
   "execution_count": 4,
   "id": "46d4bd9a",
   "metadata": {},
   "outputs": [
    {
     "ename": "ImportError",
     "evalue": "attempted relative import with no known parent package",
     "output_type": "error",
     "traceback": [
      "\u001b[31m---------------------------------------------------------------------------\u001b[39m",
      "\u001b[31mImportError\u001b[39m                               Traceback (most recent call last)",
      "\u001b[36mCell\u001b[39m\u001b[36m \u001b[39m\u001b[32mIn[4]\u001b[39m\u001b[32m, line 1\u001b[39m\n\u001b[32m----> \u001b[39m\u001b[32m1\u001b[39m \u001b[38;5;28;01mfrom\u001b[39;00m\u001b[38;5;250m \u001b[39m\u001b[34;01m.\u001b[39;00m\u001b[34;01msrc\u001b[39;00m\u001b[34;01m.\u001b[39;00m\u001b[34;01mpreprocessing\u001b[39;00m\u001b[38;5;250m \u001b[39m\u001b[38;5;28;01mimport\u001b[39;00m clean_text, preprocess_reviews\n\u001b[32m      3\u001b[39m \u001b[38;5;66;03m# Test 1\u001b[39;00m\n\u001b[32m      4\u001b[39m text = \u001b[33m\"\u001b[39m\u001b[33mThis is AMAZING!!! Best product ever :) http://example.com\u001b[39m\u001b[33m\"\u001b[39m\n",
      "\u001b[31mImportError\u001b[39m: attempted relative import with no known parent package"
     ]
    }
   ],
   "source": [
    "from .src.preprocessing import clean_text, preprocess_reviews\n",
    "\n",
    "# Test 1\n",
    "text = \"This is AMAZING!!! Best product ever :) http://example.com\"\n",
    "print(clean_text(text))\n",
    "# Output attendu: \"this is amazing best product ever\"\n",
    "\n",
    "# Test 2\n",
    "reviews = [\n",
    "    \"Great product!\",\n",
    "    \"Terrible quality...\",\n",
    "    \"Average, nothing special\"\n",
    "]\n",
    "print(preprocess_reviews(reviews))"
   ]
  },
  {
   "cell_type": "code",
   "execution_count": 1,
   "id": "64692095",
   "metadata": {},
   "outputs": [
    {
     "name": "stdout",
     "output_type": "stream",
     "text": [
      "Python executable: /home/papadiadji/my_projects/amazon-review-prediction-nlp/.venv/bin/python\n",
      "Current working directory: /home/papadiadji/my_projects/amazon-review-prediction-nlp/notebooks\n"
     ]
    }
   ],
   "source": [
    "import sys, os\n",
    "print(\"Python executable:\", sys.executable)\n",
    "print(\"Current working directory:\", os.getcwd())\n"
   ]
  }
 ],
 "metadata": {
  "kernelspec": {
   "display_name": ".venv",
   "language": "python",
   "name": "python3"
  },
  "language_info": {
   "codemirror_mode": {
    "name": "ipython",
    "version": 3
   },
   "file_extension": ".py",
   "mimetype": "text/x-python",
   "name": "python",
   "nbconvert_exporter": "python",
   "pygments_lexer": "ipython3",
   "version": "3.12.3"
  }
 },
 "nbformat": 4,
 "nbformat_minor": 5
}
