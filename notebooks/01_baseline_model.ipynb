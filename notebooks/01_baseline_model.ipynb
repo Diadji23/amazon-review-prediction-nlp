{
 "cells": [
  {
   "cell_type": "markdown",
   "id": "a1cb8206",
   "metadata": {},
   "source": [
    "## Exploaration et Analyse textuelles "
   ]
  },
  {
   "cell_type": "code",
   "execution_count": 3,
   "id": "b78c15ce",
   "metadata": {},
   "outputs": [
    {
     "name": "stderr",
     "output_type": "stream",
     "text": [
      "[nltk_data] Downloading package stopwords to\n",
      "[nltk_data]     /home/papadiadji/nltk_data...\n",
      "[nltk_data]   Package stopwords is already up-to-date!\n",
      "[nltk_data] Downloading package punkt to /home/papadiadji/nltk_data...\n",
      "[nltk_data]   Package punkt is already up-to-date!\n"
     ]
    },
    {
     "data": {
      "text/plain": [
       "True"
      ]
     },
     "execution_count": 3,
     "metadata": {},
     "output_type": "execute_result"
    }
   ],
   "source": [
    "import pandas as pd \n",
    "import numpy as np \n",
    "import matplotlib.pyplot as plt \n",
    "import seaborn as sns \n",
    "\n",
    "#pour le texte \n",
    "import nltk\n",
    "from wordcloud import WordCloud \n",
    "# Initialisation NLTK \n",
    "nltk.download('stopwords')\n",
    "nltk.download('punkt')\n",
    "\n"
   ]
  },
  {
   "cell_type": "code",
   "execution_count": 4,
   "id": "aa323031",
   "metadata": {},
   "outputs": [
    {
     "data": {
      "application/vnd.microsoft.datawrangler.viewer.v0+json": {
       "columns": [
        {
         "name": "index",
         "rawType": "int64",
         "type": "integer"
        },
        {
         "name": "Id",
         "rawType": "int64",
         "type": "integer"
        },
        {
         "name": "ProductId",
         "rawType": "object",
         "type": "string"
        },
        {
         "name": "UserId",
         "rawType": "object",
         "type": "string"
        },
        {
         "name": "ProfileName",
         "rawType": "object",
         "type": "string"
        },
        {
         "name": "HelpfulnessNumerator",
         "rawType": "int64",
         "type": "integer"
        },
        {
         "name": "HelpfulnessDenominator",
         "rawType": "int64",
         "type": "integer"
        },
        {
         "name": "Score",
         "rawType": "int64",
         "type": "integer"
        },
        {
         "name": "Time",
         "rawType": "int64",
         "type": "integer"
        },
        {
         "name": "Summary",
         "rawType": "object",
         "type": "string"
        },
        {
         "name": "Text",
         "rawType": "object",
         "type": "string"
        }
       ],
       "conversionMethod": "pd.DataFrame",
       "ref": "e613748e-0639-4516-9c0c-00722d9f5140",
       "rows": [
        [
         "0",
         "1",
         "B001E4KFG0",
         "A3SGXH7AUHU8GW",
         "delmartian",
         "1",
         "1",
         "5",
         "1303862400",
         "Good Quality Dog Food",
         "I have bought several of the Vitality canned dog food products and have found them all to be of good quality. The product looks more like a stew than a processed meat and it smells better. My Labrador is finicky and she appreciates this product better than  most."
        ],
        [
         "1",
         "2",
         "B00813GRG4",
         "A1D87F6ZCVE5NK",
         "dll pa",
         "0",
         "0",
         "1",
         "1346976000",
         "Not as Advertised",
         "Product arrived labeled as Jumbo Salted Peanuts...the peanuts were actually small sized unsalted. Not sure if this was an error or if the vendor intended to represent the product as \"Jumbo\"."
        ],
        [
         "2",
         "3",
         "B000LQOCH0",
         "ABXLMWJIXXAIN",
         "Natalia Corres \"Natalia Corres\"",
         "1",
         "1",
         "4",
         "1219017600",
         "\"Delight\" says it all",
         "This is a confection that has been around a few centuries.  It is a light, pillowy citrus gelatin with nuts - in this case Filberts. And it is cut into tiny squares and then liberally coated with powdered sugar.  And it is a tiny mouthful of heaven.  Not too chewy, and very flavorful.  I highly recommend this yummy treat.  If you are familiar with the story of C.S. Lewis' \"The Lion, The Witch, and The Wardrobe\" - this is the treat that seduces Edmund into selling out his Brother and Sisters to the Witch."
        ],
        [
         "3",
         "4",
         "B000UA0QIQ",
         "A395BORC6FGVXV",
         "Karl",
         "3",
         "3",
         "2",
         "1307923200",
         "Cough Medicine",
         "If you are looking for the secret ingredient in Robitussin I believe I have found it.  I got this in addition to the Root Beer Extract I ordered (which was good) and made some cherry soda.  The flavor is very medicinal."
        ],
        [
         "4",
         "5",
         "B006K2ZZ7K",
         "A1UQRSCLF8GW1T",
         "Michael D. Bigham \"M. Wassir\"",
         "0",
         "0",
         "5",
         "1350777600",
         "Great taffy",
         "Great taffy at a great price.  There was a wide assortment of yummy taffy.  Delivery was very quick.  If your a taffy lover, this is a deal."
        ]
       ],
       "shape": {
        "columns": 10,
        "rows": 5
       }
      },
      "text/html": [
       "<div>\n",
       "<style scoped>\n",
       "    .dataframe tbody tr th:only-of-type {\n",
       "        vertical-align: middle;\n",
       "    }\n",
       "\n",
       "    .dataframe tbody tr th {\n",
       "        vertical-align: top;\n",
       "    }\n",
       "\n",
       "    .dataframe thead th {\n",
       "        text-align: right;\n",
       "    }\n",
       "</style>\n",
       "<table border=\"1\" class=\"dataframe\">\n",
       "  <thead>\n",
       "    <tr style=\"text-align: right;\">\n",
       "      <th></th>\n",
       "      <th>Id</th>\n",
       "      <th>ProductId</th>\n",
       "      <th>UserId</th>\n",
       "      <th>ProfileName</th>\n",
       "      <th>HelpfulnessNumerator</th>\n",
       "      <th>HelpfulnessDenominator</th>\n",
       "      <th>Score</th>\n",
       "      <th>Time</th>\n",
       "      <th>Summary</th>\n",
       "      <th>Text</th>\n",
       "    </tr>\n",
       "  </thead>\n",
       "  <tbody>\n",
       "    <tr>\n",
       "      <th>0</th>\n",
       "      <td>1</td>\n",
       "      <td>B001E4KFG0</td>\n",
       "      <td>A3SGXH7AUHU8GW</td>\n",
       "      <td>delmartian</td>\n",
       "      <td>1</td>\n",
       "      <td>1</td>\n",
       "      <td>5</td>\n",
       "      <td>1303862400</td>\n",
       "      <td>Good Quality Dog Food</td>\n",
       "      <td>I have bought several of the Vitality canned d...</td>\n",
       "    </tr>\n",
       "    <tr>\n",
       "      <th>1</th>\n",
       "      <td>2</td>\n",
       "      <td>B00813GRG4</td>\n",
       "      <td>A1D87F6ZCVE5NK</td>\n",
       "      <td>dll pa</td>\n",
       "      <td>0</td>\n",
       "      <td>0</td>\n",
       "      <td>1</td>\n",
       "      <td>1346976000</td>\n",
       "      <td>Not as Advertised</td>\n",
       "      <td>Product arrived labeled as Jumbo Salted Peanut...</td>\n",
       "    </tr>\n",
       "    <tr>\n",
       "      <th>2</th>\n",
       "      <td>3</td>\n",
       "      <td>B000LQOCH0</td>\n",
       "      <td>ABXLMWJIXXAIN</td>\n",
       "      <td>Natalia Corres \"Natalia Corres\"</td>\n",
       "      <td>1</td>\n",
       "      <td>1</td>\n",
       "      <td>4</td>\n",
       "      <td>1219017600</td>\n",
       "      <td>\"Delight\" says it all</td>\n",
       "      <td>This is a confection that has been around a fe...</td>\n",
       "    </tr>\n",
       "    <tr>\n",
       "      <th>3</th>\n",
       "      <td>4</td>\n",
       "      <td>B000UA0QIQ</td>\n",
       "      <td>A395BORC6FGVXV</td>\n",
       "      <td>Karl</td>\n",
       "      <td>3</td>\n",
       "      <td>3</td>\n",
       "      <td>2</td>\n",
       "      <td>1307923200</td>\n",
       "      <td>Cough Medicine</td>\n",
       "      <td>If you are looking for the secret ingredient i...</td>\n",
       "    </tr>\n",
       "    <tr>\n",
       "      <th>4</th>\n",
       "      <td>5</td>\n",
       "      <td>B006K2ZZ7K</td>\n",
       "      <td>A1UQRSCLF8GW1T</td>\n",
       "      <td>Michael D. Bigham \"M. Wassir\"</td>\n",
       "      <td>0</td>\n",
       "      <td>0</td>\n",
       "      <td>5</td>\n",
       "      <td>1350777600</td>\n",
       "      <td>Great taffy</td>\n",
       "      <td>Great taffy at a great price.  There was a wid...</td>\n",
       "    </tr>\n",
       "  </tbody>\n",
       "</table>\n",
       "</div>"
      ],
      "text/plain": [
       "   Id   ProductId          UserId                      ProfileName  \\\n",
       "0   1  B001E4KFG0  A3SGXH7AUHU8GW                       delmartian   \n",
       "1   2  B00813GRG4  A1D87F6ZCVE5NK                           dll pa   \n",
       "2   3  B000LQOCH0   ABXLMWJIXXAIN  Natalia Corres \"Natalia Corres\"   \n",
       "3   4  B000UA0QIQ  A395BORC6FGVXV                             Karl   \n",
       "4   5  B006K2ZZ7K  A1UQRSCLF8GW1T    Michael D. Bigham \"M. Wassir\"   \n",
       "\n",
       "   HelpfulnessNumerator  HelpfulnessDenominator  Score        Time  \\\n",
       "0                     1                       1      5  1303862400   \n",
       "1                     0                       0      1  1346976000   \n",
       "2                     1                       1      4  1219017600   \n",
       "3                     3                       3      2  1307923200   \n",
       "4                     0                       0      5  1350777600   \n",
       "\n",
       "                 Summary                                               Text  \n",
       "0  Good Quality Dog Food  I have bought several of the Vitality canned d...  \n",
       "1      Not as Advertised  Product arrived labeled as Jumbo Salted Peanut...  \n",
       "2  \"Delight\" says it all  This is a confection that has been around a fe...  \n",
       "3         Cough Medicine  If you are looking for the secret ingredient i...  \n",
       "4            Great taffy  Great taffy at a great price.  There was a wid...  "
      ]
     },
     "execution_count": 4,
     "metadata": {},
     "output_type": "execute_result"
    }
   ],
   "source": [
    "data = pd.read_csv(\"./data/Reviews.csv\")\n",
    "\n",
    "data.head()"
   ]
  },
  {
   "cell_type": "code",
   "execution_count": 5,
   "id": "1d01d821",
   "metadata": {},
   "outputs": [
    {
     "name": "stdout",
     "output_type": "stream",
     "text": [
      "Nombre de lignes: 568454\n",
      "Nombre de lignes: 10\n"
     ]
    }
   ],
   "source": [
    "print(f\"Nombre de lignes: {data.shape[0]}\")\n",
    "print(f\"Nombre de lignes: {data.shape[1]}\")"
   ]
  },
  {
   "cell_type": "markdown",
   "id": "3e3417b9",
   "metadata": {},
   "source": [
    "#### notre dataFrame contient 568 454 observations avec 12 colonnes qui constituent nos variables explicatives . Nous avons entre autres le nom de profil de l'utilisateur , le score , la date de soumission , un texte sur l'avis du client et un bref resumé de son préssentiment sur le produit . "
   ]
  },
  {
   "cell_type": "code",
   "execution_count": 6,
   "id": "91a2bad1",
   "metadata": {},
   "outputs": [
    {
     "name": "stderr",
     "output_type": "stream",
     "text": [
      "/tmp/ipykernel_71004/344767605.py:4: FutureWarning: A value is trying to be set on a copy of a DataFrame or Series through chained assignment using an inplace method.\n",
      "The behavior will change in pandas 3.0. This inplace method will never work because the intermediate object on which we are setting values always behaves as a copy.\n",
      "\n",
      "For example, when doing 'df[col].method(value, inplace=True)', try using 'df.method({col: value}, inplace=True)' or df[col] = df[col].method(value) instead, to perform the operation inplace on the original object.\n",
      "\n",
      "\n",
      "  data['ProfileName'].fillna(\"Anonymous\", inplace=True)\n",
      "/tmp/ipykernel_71004/344767605.py:5: FutureWarning: A value is trying to be set on a copy of a DataFrame or Series through chained assignment using an inplace method.\n",
      "The behavior will change in pandas 3.0. This inplace method will never work because the intermediate object on which we are setting values always behaves as a copy.\n",
      "\n",
      "For example, when doing 'df[col].method(value, inplace=True)', try using 'df.method({col: value}, inplace=True)' or df[col] = df[col].method(value) instead, to perform the operation inplace on the original object.\n",
      "\n",
      "\n",
      "  data['Summary'].fillna(\"\", inplace=True)\n"
     ]
    }
   ],
   "source": [
    "#data.info \n",
    "\n",
    "data.isna().sum()\n",
    "data['ProfileName'].fillna(\"Anonymous\", inplace=True)\n",
    "data['Summary'].fillna(\"\", inplace=True)\n",
    "\n",
    "\n",
    "#data.describe(include='object')"
   ]
  },
  {
   "cell_type": "markdown",
   "id": "8e44cc1a",
   "metadata": {},
   "source": [
    "#### En resumé , 256 059 utilisateurs ont donnée des avis ( certains users reviennent beaucoup de fois ) sur 74 258 prduits "
   ]
  },
  {
   "cell_type": "code",
   "execution_count": 7,
   "id": "2263fed6",
   "metadata": {},
   "outputs": [
    {
     "data": {
      "image/png": "[encoded data removed]",
      "text/plain": [
       "<Figure size 640x480 with 1 Axes>"
      ]
     },
     "metadata": {},
     "output_type": "display_data"
    }
   ],
   "source": [
    "sns.countplot(data = data , x = 'Score')\n",
    "plt.title(\"Répartition des scores\") \n",
    "plt.show()"
   ]
  },
  {
   "cell_type": "markdown",
   "id": "43cb9914",
   "metadata": {},
   "source": [
    "### Analyse de la répartition des scores \n",
    "##### La majorité des notes attribuées sont de 5 étoiles, ce qui traduit un fort biais vers le positif.\n",
    "##### Ce phénomène peut s’expliquer par le fait que les utilisateurs ont tendance à laisser un avis lorsqu’ils sont très satisfaits du produit.\n",
    "##### À l’inverse, les avis plus négatifs (1 à 3 étoiles) sont moins fréquents et plus dispersés, probablement parce que :\n",
    "##### les clients insatisfaits n’écrivent pas systématiquement d’avis ;\n",
    "##### certains attribuent une note aléatoire (entre 1, 2 ou 3) sans réflexion précise ;\n",
    "#### le 4 étoiles semble parfois refléter une satisfaction modérée ou une hésitation.\n",
    "\n",
    " ##### Conclusion : Ce déséquilibre des classes devra être pris en compte dans les modèles de classification (ex. : en utilisant des techniques de rééchantillonnage ou des métriques adaptées comme le F1-score pondéré)"
   ]
  },
  {
   "cell_type": "code",
   "execution_count": 8,
   "id": "a699d842",
   "metadata": {},
   "outputs": [
    {
     "data": {
      "image/png": "[encoded data removed]",
      "text/plain": [
       "<Figure size 640x480 with 1 Axes>"
      ]
     },
     "metadata": {},
     "output_type": "display_data"
    },
    {
     "data": {
      "text/plain": [
       "count    568454.000000\n",
       "mean         80.264023\n",
       "std          79.455384\n",
       "min           3.000000\n",
       "25%          33.000000\n",
       "50%          56.000000\n",
       "75%          98.000000\n",
       "max        3432.000000\n",
       "Name: text_lenght, dtype: float64"
      ]
     },
     "execution_count": 8,
     "metadata": {},
     "output_type": "execute_result"
    }
   ],
   "source": [
    "# on regarde ici la longueur des avis \n",
    "\n",
    "data['text_lenght'] = data['Text'].astype(str).apply(lambda x : len(x.split()))\n",
    "\n",
    "sns.histplot(data['text_lenght'], bins = 50 , kde = True)\n",
    "plt.title(\"Longuer des avis \")\n",
    "plt.show()\n",
    "\n",
    "data['text_lenght'].describe()"
   ]
  },
  {
   "cell_type": "markdown",
   "id": "0421eba1",
   "metadata": {},
   "source": [
    "#####  la présence d’avis très longs peut influencer l’analyse de sentiment ou les performances des modèles NLP.\n",
    "##### Ces cas extrêmes devront peut-être être tronqués ou analysés séparément pour éviter qu’ils ne biaisent l’apprentissage."
   ]
  },
  {
   "cell_type": "code",
   "execution_count": 9,
   "id": "164ef012",
   "metadata": {},
   "outputs": [
    {
     "data": {
      "image/png": "[encoded data removed]",
      "text/plain": [
       "<Figure size 640x480 with 1 Axes>"
      ]
     },
     "metadata": {},
     "output_type": "display_data"
    }
   ],
   "source": [
    "sns.boxplot(data = data , x = 'Score' , y = 'text_lenght')\n",
    "plt.title(\"Longuer des avis\")\n",
    "plt.show()"
   ]
  },
  {
   "cell_type": "code",
   "execution_count": 10,
   "id": "c5751b64",
   "metadata": {},
   "outputs": [
    {
     "data": {
      "text/plain": [
       "Text(0.5, 1.0, 'Score selon la longueur des avis')"
      ]
     },
     "execution_count": 10,
     "metadata": {},
     "output_type": "execute_result"
    },
    {
     "data": {
      "image/png": "[encoded data removed]",
      "text/plain": [
       "<Figure size 640x480 with 1 Axes>"
      ]
     },
     "metadata": {},
     "output_type": "display_data"
    }
   ],
   "source": [
    "def length_category(x): \n",
    "    if x < 30 : \n",
    "        return 'court' \n",
    "    elif x >= 30 and  x < 100 : \n",
    "        return 'moyen' \n",
    "    else : \n",
    "        return 'long'\n",
    "    \n",
    "data['length_cat']=data['text_lenght'].apply(length_category)\n",
    "\n",
    "sns.countplot(data=data , x ='length_cat', hue='Score')\n",
    "plt.title(\"Score selon la longueur des avis\")"
   ]
  },
  {
   "cell_type": "markdown",
   "id": "b95e957a",
   "metadata": {},
   "source": [
    "#### Tokenisation et Prétraitement du texte"
   ]
  },
  {
   "cell_type": "code",
   "execution_count": 11,
   "id": "1a8c66c3",
   "metadata": {},
   "outputs": [],
   "source": [
    "import nltk \n",
    "from nltk.corpus import stopwords \n",
    "from nltk.tokenize import word_tokenize\n",
    "import re "
   ]
  },
  {
   "cell_type": "code",
   "execution_count": 12,
   "id": "b9a780b6",
   "metadata": {},
   "outputs": [
    {
     "name": "stderr",
     "output_type": "stream",
     "text": [
      "[nltk_data] Downloading package stopwords to\n",
      "[nltk_data]     /home/papadiadji/nltk_data...\n",
      "[nltk_data]   Package stopwords is already up-to-date!\n",
      "[nltk_data] Downloading package punkt to /home/papadiadji/nltk_data...\n",
      "[nltk_data]   Package punkt is already up-to-date!\n"
     ]
    }
   ],
   "source": [
    "#  Imports nécessaires\n",
    "import nltk\n",
    "import re\n",
    "from nltk.corpus import stopwords\n",
    "from nltk.tokenize import word_tokenize\n",
    "\n",
    "#pour la lemmatisation\n",
    "from  nltk.stem import WordNetLemmatizer\n",
    "from nltk.corpus import wordnet\n",
    "\n",
    "\n",
    "# \n",
    "nltk.download('stopwords')\n",
    "nltk.download('punkt')\n",
    "\n",
    "#  Définir les stopwords anglais\n",
    "stop_words = set(stopwords.words('english'))\n",
    "\n",
    "#  Fonction de prétraitement\n",
    "\n",
    "lemmatizer = WordNetLemmatizer()\n",
    "def preprocess_text(text):\n",
    "    text = str(text).lower()\n",
    "    text = re.sub(r'[^a-zA-Z\\s]', '', text)  # remove non-letter chars\n",
    "    tokens = word_tokenize(text)\n",
    "    tokens = [word for word in tokens if word not in stop_words and len(word) > 2]\n",
    "\n",
    "    tokens = [lemmatizer.lemmatize(word) for word in tokens]\n",
    "    return tokens\n"
   ]
  },
  {
   "cell_type": "code",
   "execution_count": 13,
   "id": "2ef4c7bc",
   "metadata": {},
   "outputs": [
    {
     "name": "stdout",
     "output_type": "stream",
     "text": [
      "Avant : I have bought several of the Vitality canned dog food products and have found them all to be of good quality. The product looks more like a stew than a processed meat and it smells better. My Labrador is finicky and she appreciates this product better than  most.\n",
      "Après nettoyage + lemmatisation : ['bought', 'several', 'vitality', 'canned', 'dog', 'food', 'product', 'found', 'good', 'quality', 'product', 'look', 'like', 'stew', 'processed', 'meat', 'smell', 'better', 'labrador', 'finicky', 'appreciates', 'product', 'better']\n"
     ]
    }
   ],
   "source": [
    "data.isna().sum()\n",
    "\n",
    "sample = data['Text'].iloc[0]\n",
    "\n",
    "print(\"Avant :\", sample)\n",
    "print(\"Après nettoyage + lemmatisation :\", preprocess_text(sample))"
   ]
  },
  {
   "cell_type": "code",
   "execution_count": 14,
   "id": "f3f25a9f",
   "metadata": {},
   "outputs": [
    {
     "name": "stderr",
     "output_type": "stream",
     "text": [
      "[nltk_data] Downloading package punkt_tab to\n",
      "[nltk_data]     /home/papadiadji/nltk_data...\n",
      "[nltk_data]   Package punkt_tab is already up-to-date!\n",
      "[nltk_data] Downloading package punkt to /home/papadiadji/nltk_data...\n",
      "[nltk_data]   Package punkt is already up-to-date!\n"
     ]
    }
   ],
   "source": [
    "import nltk\n",
    "nltk.download('punkt_tab')\n",
    "# Recrée le dossier et télécharge correctement\n",
    "nltk.download('punkt', download_dir='/home/papadiadji/nltk_data')\n",
    "\n",
    "# Force l'utilisation de ce chemin uniquement\n",
    "nltk.data.path.clear()\n",
    "nltk.data.path.append('/home/papadiadji/nltk_data')\n",
    "\n",
    "# Test\n",
    "from nltk.tokenize import word_tokenize\n"
   ]
  },
  {
   "cell_type": "code",
   "execution_count": 15,
   "id": "b6953f97",
   "metadata": {},
   "outputs": [],
   "source": [
    "#on ajoute ici une colone pour les textes netoyés \n",
    "\n",
    "data['tokens'] = data['Text'].apply(preprocess_text)"
   ]
  },
  {
   "cell_type": "code",
   "execution_count": 16,
   "id": "e4ac7e65",
   "metadata": {},
   "outputs": [
    {
     "name": "stderr",
     "output_type": "stream",
     "text": [
      "[nltk_data] Downloading package wordnet to\n",
      "[nltk_data]     /home/papadiadji/nltk_data...\n",
      "[nltk_data]   Package wordnet is already up-to-date!\n",
      "[nltk_data] Downloading package omw-1.4 to\n",
      "[nltk_data]     /home/papadiadji/nltk_data...\n",
      "[nltk_data]   Package omw-1.4 is already up-to-date!\n"
     ]
    },
    {
     "data": {
      "text/plain": [
       "True"
      ]
     },
     "execution_count": 16,
     "metadata": {},
     "output_type": "execute_result"
    }
   ],
   "source": [
    "import nltk \n",
    "from  nltk.stem import WordNetLemmatizer\n",
    "from nltk.corpus import wordnet\n",
    "\n",
    "nltk.download('wordnet')\n",
    "nltk.download('omw-1.4')\n"
   ]
  },
  {
   "cell_type": "code",
   "execution_count": 17,
   "id": "afda5ef3",
   "metadata": {},
   "outputs": [],
   "source": [
    "def preprocess_text_joined(text): \n",
    "    tokens = preprocess_text(text)\n",
    "    return \" \".join(tokens)\n",
    "\n",
    "data['clean_text'] = data['Text'].apply(preprocess_text_joined)\n"
   ]
  },
  {
   "cell_type": "code",
   "execution_count": 18,
   "id": "0de2dbeb",
   "metadata": {},
   "outputs": [],
   "source": [
    "#Vectorisation TF-IDF : transforme le texte en vecteurs numériques \n",
    "\n",
    "from sklearn.feature_extraction.text import TfidfVectorizer\n",
    "\n",
    "vectorizer = TfidfVectorizer(max_features= 5000)\n",
    "\n",
    "X = vectorizer.fit_transform(data['clean_text'])\n"
   ]
  },
  {
   "cell_type": "code",
   "execution_count": 19,
   "id": "f8f90e76",
   "metadata": {},
   "outputs": [
    {
     "name": "stdout",
     "output_type": "stream",
     "text": [
      "              precision    recall  f1-score   support\n",
      "\n",
      "           1       0.41      0.65      0.51     43073\n",
      "           2       0.26      0.31      0.28     24532\n",
      "           3       0.27      0.31      0.29     35139\n",
      "           4       0.32      0.38      0.35     66467\n",
      "           5       0.84      0.70      0.76    299243\n",
      "\n",
      "    accuracy                           0.60    468454\n",
      "   macro avg       0.42      0.47      0.44    468454\n",
      "weighted avg       0.65      0.60      0.62    468454\n",
      "\n"
     ]
    }
   ],
   "source": [
    "from sklearn.ensemble import RandomForestClassifier\n",
    "from sklearn.model_selection import train_test_split\n",
    "from sklearn.metrics import classification_report\n",
    "\n",
    "y = data['Score']  #\n",
    "\n",
    "X_train, X_test, y_train, y_test = train_test_split(X, y, train_size=100000, stratify=y, random_state=42)\n",
    "model = RandomForestClassifier(n_estimators=50, max_depth=15, class_weight='balanced', random_state=42)\n",
    "model.fit(X_train, y_train)\n",
    "\n",
    "y_pred = model.predict(X_test)\n",
    "\n",
    "from sklearn.metrics import classification_report\n",
    "\n",
    "print(classification_report(y_test, y_pred))\n"
   ]
  },
  {
   "cell_type": "markdown",
   "id": "e4ab2691",
   "metadata": {},
   "source": [
    "### On remarque que le modele ignore completement les autres classes de 1 à  4 , ce qui est probab lemnt du par le deséquilibre des classes . Nous allons tester un modele logistique avec réequilibrant les classes "
   ]
  },
  {
   "cell_type": "code",
   "execution_count": 23,
   "id": "28eb5f95",
   "metadata": {},
   "outputs": [
    {
     "name": "stdout",
     "output_type": "stream",
     "text": [
      "              precision    recall  f1-score   support\n",
      "\n",
      "           0       0.70      0.79      0.75     40789\n",
      "           1       0.87      0.81      0.84     72902\n",
      "\n",
      "    accuracy                           0.81    113691\n",
      "   macro avg       0.79      0.80      0.79    113691\n",
      "weighted avg       0.81      0.81      0.81    113691\n",
      "\n"
     ]
    }
   ],
   "source": [
    "from sklearn.model_selection import train_test_split\n",
    "from sklearn.linear_model import LogisticRegression\n",
    "from sklearn.metrics import classification_report\n",
    "\n",
    "data['target_bin'] = data['Score'].apply(lambda x: 1 if x == 5 else 0)\n",
    "\n",
    "\n",
    "X_train, X_test, y_train, y_test = train_test_split(X, data['target_bin'], test_size=0.2, random_state=42)\n",
    "\n",
    "model = LogisticRegression(max_iter=1000, class_weight='balanced')\n",
    "model.fit(X_train, y_train)\n",
    "\n",
    "y_pred = model.predict(X_test)\n",
    "print(classification_report(y_test, y_pred))\n",
    "\n"
   ]
  },
  {
   "cell_type": "code",
   "execution_count": 24,
   "id": "5e842c49",
   "metadata": {},
   "outputs": [
    {
     "data": {
      "image/png": "[encoded data removed]",
      "text/plain": [
       "<Figure size 640x480 with 2 Axes>"
      ]
     },
     "metadata": {},
     "output_type": "display_data"
    }
   ],
   "source": [
    "from sklearn.metrics import confusion_matrix\n",
    "\n",
    "cm = confusion_matrix(y_test, y_pred)\n",
    "sns.heatmap(cm, annot=True, fmt='d', cmap='Blues')\n",
    "plt.xlabel(\"Prédiction\")\n",
    "plt.ylabel(\"Réel\")\n",
    "plt.title(\"Matrice de confusion – Régression logistique\")\n",
    "plt.show()\n"
   ]
  },
  {
   "cell_type": "code",
   "execution_count": 25,
   "id": "df102611",
   "metadata": {},
   "outputs": [
    {
     "name": "stdout",
     "output_type": "stream",
     "text": [
      " Mots positifs :\n",
      "highly → 7.0484\n",
      "hooked → 6.9706\n",
      "love → 6.5500\n",
      "best → 6.2511\n",
      "amazing → 5.9702\n",
      "delicious → 5.8335\n",
      "great → 5.6560\n",
      "wonderful → 5.2283\n",
      "perfect → 5.1884\n",
      "excellent → 5.1427\n",
      "awesome → 5.1401\n",
      "fantastic → 4.9023\n",
      "favorite → 4.8088\n",
      "amazed → 4.7367\n",
      "incredible → 4.5821\n",
      "thank → 4.5658\n",
      "heaven → 4.5627\n",
      "skeptical → 4.2837\n",
      "addicted → 4.2380\n",
      "fabulous → 3.8592\n",
      "\n",
      " Mots négatifs :\n",
      "worst → -9.2058\n",
      "star → -7.7372\n",
      "disappointing → -7.6380\n",
      "disappointment → -6.8918\n",
      "awful → -6.2026\n",
      "unfortunately → -6.0465\n",
      "however → -6.0361\n",
      "refund → -5.5727\n",
      "misleading → -5.2775\n",
      "threw → -5.1837\n",
      "horrible → -5.1239\n",
      "return → -5.0975\n",
      "drinkable → -5.0092\n",
      "terrible → -4.8561\n",
      "disgusting → -4.7328\n",
      "disappointed → -4.6353\n",
      "okay → -4.5831\n",
      "worse → -4.4581\n",
      "cancelled → -4.4143\n",
      "hoping → -4.3601\n"
     ]
    }
   ],
   "source": [
    "import numpy as np\n",
    "\n",
    "feature_names = vectorizer.get_feature_names_out()\n",
    "coefs = model.coef_[0]\n",
    "\n",
    "# Mots qui contribuent le plus à prédire la classe 1 (score 5)\n",
    "top_pos = np.argsort(coefs)[-20:]\n",
    "top_neg = np.argsort(coefs)[:20]\n",
    "\n",
    "print(\" Mots positifs :\")\n",
    "for idx in top_pos[::-1]:\n",
    "    print(f\"{feature_names[idx]} → {coefs[idx]:.4f}\")\n",
    "\n",
    "print(\"\\n Mots négatifs :\")\n",
    "for idx in top_neg:\n",
    "    print(f\"{feature_names[idx]} → {coefs[idx]:.4f}\")\n"
   ]
  }
 ],
 "metadata": {
  "kernelspec": {
   "display_name": "Python 3 (ipykernel)",
   "language": "python",
   "name": "python3"
  }
 },
 "nbformat": 4,
 "nbformat_minor": 5
}
